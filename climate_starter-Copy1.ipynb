{
 "cells": [
  {
   "cell_type": "code",
   "execution_count": 9,
   "metadata": {},
   "outputs": [],
   "source": [
    "import datetime as dt\n",
    "import numpy as np\n",
    "import pandas as pd\n",
    "\n",
    "import sqlalchemy\n",
    "from sqlalchemy.ext.automap import automap_base\n",
    "from sqlalchemy.orm import Session\n",
    "from sqlalchemy import create_engine, func\n",
    "from sqlalchemy.inspection import inspect\n",
    "\n",
    "from flask import Flask, jsonify\n",
    "\n"
   ]
  },
  {
   "cell_type": "code",
   "execution_count": 14,
   "metadata": {},
   "outputs": [],
   "source": [
    "#################################################\n",
    "# Database Setup\n",
    "#################################################\n",
    "engine = create_engine(\"sqlite:///hawaii.sqlite\")\n",
    "\n"
   ]
  },
  {
   "cell_type": "code",
   "execution_count": 15,
   "metadata": {},
   "outputs": [],
   "source": [
    "# reflect an existing database into a new model\n",
    "Base = automap_base()\n"
   ]
  },
  {
   "cell_type": "code",
   "execution_count": 16,
   "metadata": {},
   "outputs": [],
   "source": [
    "# reflect the tables\n",
    "Base.prepare(autoload_with=engine)\n"
   ]
  },
  {
   "cell_type": "code",
   "execution_count": 17,
   "metadata": {},
   "outputs": [
    {
     "data": {
      "text/plain": [
       "[]"
      ]
     },
     "execution_count": 17,
     "metadata": {},
     "output_type": "execute_result"
    }
   ],
   "source": [
    "Base.classes.keys()"
   ]
  },
  {
   "cell_type": "code",
   "execution_count": 18,
   "metadata": {},
   "outputs": [
    {
     "ename": "AttributeError",
     "evalue": "station",
     "output_type": "error",
     "traceback": [
      "\u001b[1;31m---------------------------------------------------------------------------\u001b[0m",
      "\u001b[1;31mKeyError\u001b[0m                                  Traceback (most recent call last)",
      "File \u001b[1;32m~\\anaconda3\\envs\\dev\\lib\\site-packages\\sqlalchemy\\util\\_collections.py:214\u001b[0m, in \u001b[0;36mProperties.__getattr__\u001b[1;34m(self, key)\u001b[0m\n\u001b[0;32m    213\u001b[0m \u001b[38;5;28;01mtry\u001b[39;00m:\n\u001b[1;32m--> 214\u001b[0m     \u001b[38;5;28;01mreturn\u001b[39;00m \u001b[38;5;28;43mself\u001b[39;49m\u001b[38;5;241;43m.\u001b[39;49m\u001b[43m_data\u001b[49m\u001b[43m[\u001b[49m\u001b[43mkey\u001b[49m\u001b[43m]\u001b[49m\n\u001b[0;32m    215\u001b[0m \u001b[38;5;28;01mexcept\u001b[39;00m \u001b[38;5;167;01mKeyError\u001b[39;00m:\n",
      "\u001b[1;31mKeyError\u001b[0m: 'station'",
      "\nDuring handling of the above exception, another exception occurred:\n",
      "\u001b[1;31mAttributeError\u001b[0m                            Traceback (most recent call last)",
      "Cell \u001b[1;32mIn[18], line 1\u001b[0m\n\u001b[1;32m----> 1\u001b[0m Station \u001b[38;5;241m=\u001b[39m \u001b[43mBase\u001b[49m\u001b[38;5;241;43m.\u001b[39;49m\u001b[43mclasses\u001b[49m\u001b[38;5;241;43m.\u001b[39;49m\u001b[43mstation\u001b[49m\n\u001b[0;32m      2\u001b[0m Measurement \u001b[38;5;241m=\u001b[39m Base\u001b[38;5;241m.\u001b[39mclasses\u001b[38;5;241m.\u001b[39mmeasurement\n",
      "File \u001b[1;32m~\\anaconda3\\envs\\dev\\lib\\site-packages\\sqlalchemy\\util\\_collections.py:216\u001b[0m, in \u001b[0;36mProperties.__getattr__\u001b[1;34m(self, key)\u001b[0m\n\u001b[0;32m    214\u001b[0m     \u001b[38;5;28;01mreturn\u001b[39;00m \u001b[38;5;28mself\u001b[39m\u001b[38;5;241m.\u001b[39m_data[key]\n\u001b[0;32m    215\u001b[0m \u001b[38;5;28;01mexcept\u001b[39;00m \u001b[38;5;167;01mKeyError\u001b[39;00m:\n\u001b[1;32m--> 216\u001b[0m     \u001b[38;5;28;01mraise\u001b[39;00m \u001b[38;5;167;01mAttributeError\u001b[39;00m(key)\n",
      "\u001b[1;31mAttributeError\u001b[0m: station"
     ]
    }
   ],
   "source": [
    "Station = Base.classes.station\n",
    "Measurement = Base.classes.measurement"
   ]
  },
  {
   "cell_type": "code",
   "execution_count": 19,
   "metadata": {},
   "outputs": [
    {
     "data": {
      "text/plain": [
       "[]"
      ]
     },
     "execution_count": 19,
     "metadata": {},
     "output_type": "execute_result"
    }
   ],
   "source": [
    "inspector = inspect(engine)\n",
    "inspector.get_table_names()"
   ]
  },
  {
   "cell_type": "code",
   "execution_count": 21,
   "metadata": {},
   "outputs": [
    {
     "ename": "NoSuchTableError",
     "evalue": "station",
     "output_type": "error",
     "traceback": [
      "\u001b[1;31m---------------------------------------------------------------------------\u001b[0m",
      "\u001b[1;31mNoSuchTableError\u001b[0m                          Traceback (most recent call last)",
      "Cell \u001b[1;32mIn[21], line 1\u001b[0m\n\u001b[1;32m----> 1\u001b[0m columns \u001b[38;5;241m=\u001b[39m \u001b[43minspector\u001b[49m\u001b[38;5;241;43m.\u001b[39;49m\u001b[43mget_columns\u001b[49m\u001b[43m(\u001b[49m\u001b[38;5;124;43m'\u001b[39;49m\u001b[38;5;124;43mstation\u001b[39;49m\u001b[38;5;124;43m'\u001b[39;49m\u001b[43m)\u001b[49m\n\u001b[0;32m      2\u001b[0m \u001b[38;5;28;01mfor\u001b[39;00m c \u001b[38;5;129;01min\u001b[39;00m columns:\n\u001b[0;32m      3\u001b[0m     \u001b[38;5;28mprint\u001b[39m(c[\u001b[38;5;124m'\u001b[39m\u001b[38;5;124mname\u001b[39m\u001b[38;5;124m'\u001b[39m], c[\u001b[38;5;124m\"\u001b[39m\u001b[38;5;124mtype\u001b[39m\u001b[38;5;124m\"\u001b[39m])\n",
      "File \u001b[1;32m~\\anaconda3\\envs\\dev\\lib\\site-packages\\sqlalchemy\\engine\\reflection.py:859\u001b[0m, in \u001b[0;36mInspector.get_columns\u001b[1;34m(self, table_name, schema, **kw)\u001b[0m\n\u001b[0;32m    835\u001b[0m \u001b[38;5;250m\u001b[39m\u001b[38;5;124mr\u001b[39m\u001b[38;5;124;03m\"\"\"Return information about columns in ``table_name``.\u001b[39;00m\n\u001b[0;32m    836\u001b[0m \n\u001b[0;32m    837\u001b[0m \u001b[38;5;124;03mGiven a string ``table_name`` and an optional string ``schema``,\u001b[39;00m\n\u001b[1;32m   (...)\u001b[0m\n\u001b[0;32m    855\u001b[0m \n\u001b[0;32m    856\u001b[0m \u001b[38;5;124;03m\"\"\"\u001b[39;00m\n\u001b[0;32m    858\u001b[0m \u001b[38;5;28;01mwith\u001b[39;00m \u001b[38;5;28mself\u001b[39m\u001b[38;5;241m.\u001b[39m_operation_context() \u001b[38;5;28;01mas\u001b[39;00m conn:\n\u001b[1;32m--> 859\u001b[0m     col_defs \u001b[38;5;241m=\u001b[39m \u001b[38;5;28mself\u001b[39m\u001b[38;5;241m.\u001b[39mdialect\u001b[38;5;241m.\u001b[39mget_columns(\n\u001b[0;32m    860\u001b[0m         conn, table_name, schema, info_cache\u001b[38;5;241m=\u001b[39m\u001b[38;5;28mself\u001b[39m\u001b[38;5;241m.\u001b[39minfo_cache, \u001b[38;5;241m*\u001b[39m\u001b[38;5;241m*\u001b[39mkw\n\u001b[0;32m    861\u001b[0m     )\n\u001b[0;32m    862\u001b[0m \u001b[38;5;28;01mif\u001b[39;00m col_defs:\n\u001b[0;32m    863\u001b[0m     \u001b[38;5;28mself\u001b[39m\u001b[38;5;241m.\u001b[39m_instantiate_types([col_defs])\n",
      "File \u001b[1;32m<string>:2\u001b[0m, in \u001b[0;36mget_columns\u001b[1;34m(self, connection, table_name, schema, **kw)\u001b[0m\n",
      "File \u001b[1;32m~\\anaconda3\\envs\\dev\\lib\\site-packages\\sqlalchemy\\engine\\reflection.py:97\u001b[0m, in \u001b[0;36mcache\u001b[1;34m(fn, self, con, *args, **kw)\u001b[0m\n\u001b[0;32m     95\u001b[0m ret: _R \u001b[38;5;241m=\u001b[39m info_cache\u001b[38;5;241m.\u001b[39mget(key)\n\u001b[0;32m     96\u001b[0m \u001b[38;5;28;01mif\u001b[39;00m ret \u001b[38;5;129;01mis\u001b[39;00m \u001b[38;5;28;01mNone\u001b[39;00m:\n\u001b[1;32m---> 97\u001b[0m     ret \u001b[38;5;241m=\u001b[39m fn(\u001b[38;5;28mself\u001b[39m, con, \u001b[38;5;241m*\u001b[39margs, \u001b[38;5;241m*\u001b[39m\u001b[38;5;241m*\u001b[39mkw)\n\u001b[0;32m     98\u001b[0m     info_cache[key] \u001b[38;5;241m=\u001b[39m ret\n\u001b[0;32m     99\u001b[0m \u001b[38;5;28;01mreturn\u001b[39;00m ret\n",
      "File \u001b[1;32m~\\anaconda3\\envs\\dev\\lib\\site-packages\\sqlalchemy\\dialects\\sqlite\\base.py:2250\u001b[0m, in \u001b[0;36mSQLiteDialect.get_columns\u001b[1;34m(self, connection, table_name, schema, **kw)\u001b[0m\n\u001b[0;32m   2248\u001b[0m     \u001b[38;5;28;01mreturn\u001b[39;00m columns\n\u001b[0;32m   2249\u001b[0m \u001b[38;5;28;01melif\u001b[39;00m \u001b[38;5;129;01mnot\u001b[39;00m \u001b[38;5;28mself\u001b[39m\u001b[38;5;241m.\u001b[39mhas_table(connection, table_name, schema):\n\u001b[1;32m-> 2250\u001b[0m     \u001b[38;5;28;01mraise\u001b[39;00m exc\u001b[38;5;241m.\u001b[39mNoSuchTableError(\n\u001b[0;32m   2251\u001b[0m         \u001b[38;5;124mf\u001b[39m\u001b[38;5;124m\"\u001b[39m\u001b[38;5;132;01m{\u001b[39;00mschema\u001b[38;5;132;01m}\u001b[39;00m\u001b[38;5;124m.\u001b[39m\u001b[38;5;132;01m{\u001b[39;00mtable_name\u001b[38;5;132;01m}\u001b[39;00m\u001b[38;5;124m\"\u001b[39m \u001b[38;5;28;01mif\u001b[39;00m schema \u001b[38;5;28;01melse\u001b[39;00m table_name\n\u001b[0;32m   2252\u001b[0m     )\n\u001b[0;32m   2253\u001b[0m \u001b[38;5;28;01melse\u001b[39;00m:\n\u001b[0;32m   2254\u001b[0m     \u001b[38;5;28;01mreturn\u001b[39;00m ReflectionDefaults\u001b[38;5;241m.\u001b[39mcolumns()\n",
      "\u001b[1;31mNoSuchTableError\u001b[0m: station"
     ]
    }
   ],
   "source": [
    "columns = inspector.get_columns('station')\n",
    "for c in columns:\n",
    "    print(c['name'], c[\"type\"])"
   ]
  },
  {
   "cell_type": "code",
   "execution_count": null,
   "metadata": {},
   "outputs": [],
   "source": []
  }
 ],
 "metadata": {
  "anaconda-cloud": {},
  "kernel_info": {
   "name": "python3"
  },
  "kernelspec": {
   "display_name": "Python 3 (ipykernel)",
   "language": "python",
   "name": "python3"
  },
  "language_info": {
   "codemirror_mode": {
    "name": "ipython",
    "version": 3
   },
   "file_extension": ".py",
   "mimetype": "text/x-python",
   "name": "python",
   "nbconvert_exporter": "python",
   "pygments_lexer": "ipython3",
   "version": "3.10.14"
  },
  "nteract": {
   "version": "0.12.3"
  },
  "varInspector": {
   "cols": {
    "lenName": 16,
    "lenType": 16,
    "lenVar": 40
   },
   "kernels_config": {
    "python": {
     "delete_cmd_postfix": "",
     "delete_cmd_prefix": "del ",
     "library": "var_list.py",
     "varRefreshCmd": "print(var_dic_list())"
    },
    "r": {
     "delete_cmd_postfix": ") ",
     "delete_cmd_prefix": "rm(",
     "library": "var_list.r",
     "varRefreshCmd": "cat(var_dic_list()) "
    }
   },
   "types_to_exclude": [
    "module",
    "function",
    "builtin_function_or_method",
    "instance",
    "_Feature"
   ],
   "window_display": false
  }
 },
 "nbformat": 4,
 "nbformat_minor": 4
}
